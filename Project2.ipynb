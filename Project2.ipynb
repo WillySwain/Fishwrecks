{
 "cells": [
  {
   "cell_type": "markdown",
   "metadata": {},
   "source": [
    "# QAC Analysis\n",
    "by Deep Datta, Giri Ganta, Mihir Gathani, Patrick Kelleher, William Swain"
   ]
  },
  {
   "cell_type": "markdown",
   "metadata": {},
   "source": [
    "## Question: Do Vessels Fish Around Shipwrecks More Often Than Not?\n",
    "\n",
    "- The United States has a long history of shipwrecks from fishing vessels to actual tankers. Many vessels wreck each year and some are not listed down. The question is whether vessels fish around shipwrecks more often than not because of the theory that fish like the cover of obstructions and big objects from our knowledge of fresh water fishing because tend to stay around structures for safety.\n",
    "  \n",
    "- The US Office of Coast/ NOAA have a dataset at: https://nauticalcharts.noaa.gov/data/wrecks-and-obstructions.html which provides us with data regarding wrecks.\n",
    "- We get some of our other data on fishing vessels from the Global Fishing Watch website: https://globalfishingwatch.org/\n",
    "- We also get some of our data from the General Bathymetric Chart of the Oceans (GEBCO) for our depth values at: https://download.gebco.net/  \n",
    "\n",
    "#\n",
    "- Overview of our method:\n",
    "    1. Get the data from the websites above.\n",
    "    2. Merge and clean the datasets into one major method\n",
    "    3. Next, visualize the data to see if there is a correlation between the shipwrecks and the fishing vessels. \n",
    "    4. Finally, check to see if the correlation answers are question above.\n",
    "\n",
    "#\n",
    "- Credit Listing:   \n",
    "    1. Deep Datta - Worked on QAC and helped with the research questions.\n",
    "    2. Giri Ganta - Worked on QAC and helped with plotting the data.\n",
    "    3. Mihir Gathani - Worked on QAC and helped with data cleaning and formatting.\n",
    "    4. Patrick Kelleher - Worked on the plotting and analysis of the data.\n",
    "    5. William Swain - Worked on the plotted and analysis of the data."
   ]
  },
  {
   "cell_type": "markdown",
   "metadata": {},
   "source": [
    "Here, we import the required packages"
   ]
  },
  {
   "cell_type": "code",
   "execution_count": 1,
   "metadata": {},
   "outputs": [],
   "source": [
    "import pandas as pd\n",
    "import numpy as np\n",
    "import matplotlib.pyplot as plt\n",
    "from datetime import datetime as dt\n",
    "from dateutil.relativedelta import relativedelta"
   ]
  },
  {
   "cell_type": "markdown",
   "metadata": {},
   "source": [
    "## Analysis \n",
    "\n",
    "Here, we perform data cleaning by removing the extra data, and bounding it to the box of 23.5N to 50N and 100W to 60W since that limits the data to the east coast of the US and Gulf of Mexico, which is where our interest lies. We also merge the cleaned fishing vessels data into a new data frame with the required columns.\n"
   ]
  },
  {
   "cell_type": "code",
   "execution_count": 2,
   "metadata": {},
   "outputs": [
    {
     "name": "stdout",
     "output_type": "stream",
     "text": [
      "<class 'pandas.core.frame.DataFrame'>\n",
      "Int64Index: 316224 entries, 6462 to 88002\n",
      "Data columns (total 6 columns):\n",
      " #   Column         Non-Null Count   Dtype  \n",
      "---  ------         --------------   -----  \n",
      " 0   date           316224 non-null  object \n",
      " 1   cell_ll_lat    316224 non-null  float64\n",
      " 2   cell_ll_lon    316224 non-null  float64\n",
      " 3   mmsi           316224 non-null  int64  \n",
      " 4   hours          316224 non-null  float64\n",
      " 5   fishing_hours  316224 non-null  float64\n",
      "dtypes: float64(4), int64(1), object(1)\n",
      "memory usage: 16.9+ MB\n"
     ]
    },
    {
     "data": {
      "text/plain": [
       "None"
      ]
     },
     "metadata": {},
     "output_type": "display_data"
    },
    {
     "data": {
      "text/html": [
       "<div>\n",
       "<style scoped>\n",
       "    .dataframe tbody tr th:only-of-type {\n",
       "        vertical-align: middle;\n",
       "    }\n",
       "\n",
       "    .dataframe tbody tr th {\n",
       "        vertical-align: top;\n",
       "    }\n",
       "\n",
       "    .dataframe thead th {\n",
       "        text-align: right;\n",
       "    }\n",
       "</style>\n",
       "<table border=\"1\" class=\"dataframe\">\n",
       "  <thead>\n",
       "    <tr style=\"text-align: right;\">\n",
       "      <th></th>\n",
       "      <th>date</th>\n",
       "      <th>cell_ll_lat</th>\n",
       "      <th>cell_ll_lon</th>\n",
       "      <th>mmsi</th>\n",
       "      <th>hours</th>\n",
       "      <th>fishing_hours</th>\n",
       "    </tr>\n",
       "  </thead>\n",
       "  <tbody>\n",
       "    <tr>\n",
       "      <th>6462</th>\n",
       "      <td>2020-01-02</td>\n",
       "      <td>25.0</td>\n",
       "      <td>-82.5</td>\n",
       "      <td>367680570</td>\n",
       "      <td>14.1386</td>\n",
       "      <td>13.1827</td>\n",
       "    </tr>\n",
       "    <tr>\n",
       "      <th>6463</th>\n",
       "      <td>2020-01-02</td>\n",
       "      <td>25.0</td>\n",
       "      <td>-82.6</td>\n",
       "      <td>367680570</td>\n",
       "      <td>2.0897</td>\n",
       "      <td>2.0897</td>\n",
       "    </tr>\n",
       "    <tr>\n",
       "      <th>6899</th>\n",
       "      <td>2020-01-02</td>\n",
       "      <td>27.0</td>\n",
       "      <td>-83.0</td>\n",
       "      <td>367532970</td>\n",
       "      <td>1.7083</td>\n",
       "      <td>1.7083</td>\n",
       "    </tr>\n",
       "    <tr>\n",
       "      <th>6965</th>\n",
       "      <td>2020-01-02</td>\n",
       "      <td>28.0</td>\n",
       "      <td>-94.1</td>\n",
       "      <td>367743330</td>\n",
       "      <td>5.0741</td>\n",
       "      <td>4.8241</td>\n",
       "    </tr>\n",
       "    <tr>\n",
       "      <th>7040</th>\n",
       "      <td>2020-01-02</td>\n",
       "      <td>29.0</td>\n",
       "      <td>-89.9</td>\n",
       "      <td>366861460</td>\n",
       "      <td>13.6988</td>\n",
       "      <td>10.4994</td>\n",
       "    </tr>\n",
       "    <tr>\n",
       "      <th>...</th>\n",
       "      <td>...</td>\n",
       "      <td>...</td>\n",
       "      <td>...</td>\n",
       "      <td>...</td>\n",
       "      <td>...</td>\n",
       "      <td>...</td>\n",
       "    </tr>\n",
       "    <tr>\n",
       "      <th>87065</th>\n",
       "      <td>2020-12-30</td>\n",
       "      <td>31.8</td>\n",
       "      <td>-78.8</td>\n",
       "      <td>367719840</td>\n",
       "      <td>1.7255</td>\n",
       "      <td>0.2591</td>\n",
       "    </tr>\n",
       "    <tr>\n",
       "      <th>87659</th>\n",
       "      <td>2020-12-30</td>\n",
       "      <td>41.6</td>\n",
       "      <td>-68.6</td>\n",
       "      <td>368161410</td>\n",
       "      <td>0.2605</td>\n",
       "      <td>0.2605</td>\n",
       "    </tr>\n",
       "    <tr>\n",
       "      <th>87999</th>\n",
       "      <td>2020-12-30</td>\n",
       "      <td>43.6</td>\n",
       "      <td>-69.9</td>\n",
       "      <td>368016910</td>\n",
       "      <td>4.2641</td>\n",
       "      <td>2.1730</td>\n",
       "    </tr>\n",
       "    <tr>\n",
       "      <th>88000</th>\n",
       "      <td>2020-12-30</td>\n",
       "      <td>43.6</td>\n",
       "      <td>-69.2</td>\n",
       "      <td>368017040</td>\n",
       "      <td>7.3930</td>\n",
       "      <td>6.3683</td>\n",
       "    </tr>\n",
       "    <tr>\n",
       "      <th>88002</th>\n",
       "      <td>2020-12-30</td>\n",
       "      <td>43.6</td>\n",
       "      <td>-69.5</td>\n",
       "      <td>368092290</td>\n",
       "      <td>5.0569</td>\n",
       "      <td>0.3500</td>\n",
       "    </tr>\n",
       "  </tbody>\n",
       "</table>\n",
       "<p>316224 rows × 6 columns</p>\n",
       "</div>"
      ],
      "text/plain": [
       "             date  cell_ll_lat  cell_ll_lon       mmsi    hours  fishing_hours\n",
       "6462   2020-01-02         25.0        -82.5  367680570  14.1386        13.1827\n",
       "6463   2020-01-02         25.0        -82.6  367680570   2.0897         2.0897\n",
       "6899   2020-01-02         27.0        -83.0  367532970   1.7083         1.7083\n",
       "6965   2020-01-02         28.0        -94.1  367743330   5.0741         4.8241\n",
       "7040   2020-01-02         29.0        -89.9  366861460  13.6988        10.4994\n",
       "...           ...          ...          ...        ...      ...            ...\n",
       "87065  2020-12-30         31.8        -78.8  367719840   1.7255         0.2591\n",
       "87659  2020-12-30         41.6        -68.6  368161410   0.2605         0.2605\n",
       "87999  2020-12-30         43.6        -69.9  368016910   4.2641         2.1730\n",
       "88000  2020-12-30         43.6        -69.2  368017040   7.3930         6.3683\n",
       "88002  2020-12-30         43.6        -69.5  368092290   5.0569         0.3500\n",
       "\n",
       "[316224 rows x 6 columns]"
      ]
     },
     "execution_count": 2,
     "metadata": {},
     "output_type": "execute_result"
    }
   ],
   "source": [
    "curr_date = dt.strptime(\"2020-01-02\", \"%Y-%m-%d\")\n",
    "end_date = dt.strptime(\"2020-12-31\", \"%Y-%m-%d\")\n",
    "vessels_df = pd.read_csv(f'./mmsi-daily-csvs-10-v2-2020/{curr_date:%Y-%m-%d}.csv')\n",
    "# Remove where fishing hours is 0 because that means the vessel wasn't fishing at that location\n",
    "vessels_df = vessels_df[vessels_df.fishing_hours != 0]\n",
    "# Only include vessels in the region between 23.5N and 50N and 100W and 60W\n",
    "vessels_df = vessels_df[vessels_df.cell_ll_lat >= 23.5]\n",
    "vessels_df = vessels_df[vessels_df.cell_ll_lat <= 50]\n",
    "vessels_df = vessels_df[vessels_df.cell_ll_lon <= -60]\n",
    "vessels_df = vessels_df[vessels_df.cell_ll_lon >= -100]\n",
    "curr_date = curr_date + relativedelta(days=1)\n",
    "while curr_date < end_date:\n",
    "    temp_df = pd.read_csv(f'./mmsi-daily-csvs-10-v2-2020/{curr_date:%Y-%m-%d}.csv')\n",
    "    # Remove where fishing hours is 0 because that means the vessel wasn't fishing at that location\n",
    "    temp_df = temp_df[temp_df.fishing_hours != 0]\n",
    "    # Only include vessels in the region between 23.5N and 50N and 100W and 60W\n",
    "    temp_df = temp_df[temp_df.cell_ll_lat >= 23.5]\n",
    "    temp_df = temp_df[temp_df.cell_ll_lat <= 50]\n",
    "    temp_df = temp_df[temp_df.cell_ll_lon <= -60]\n",
    "    temp_df = temp_df[temp_df.cell_ll_lon >= -100]\n",
    "    vessels_df = pd.concat([vessels_df, temp_df])\n",
    "    curr_date = curr_date + relativedelta(days=1)\n",
    "    print(f'{curr_date:%Y-%m-%d}', end='\\r')\n",
    "\n",
    "display(vessels_df.info()) # display the type of information that vessels_df contains\n",
    "vessels_df"
   ]
  },
  {
   "cell_type": "markdown",
   "metadata": {},
   "source": [
    "We then cleaned the AWOIS wrecks file to have the same bounding box as our vessels data."
   ]
  },
  {
   "cell_type": "code",
   "execution_count": 3,
   "metadata": {},
   "outputs": [
    {
     "name": "stdout",
     "output_type": "stream",
     "text": [
      "<class 'pandas.core.frame.DataFrame'>\n",
      "Int64Index: 5210 entries, 0 to 6221\n",
      "Data columns (total 10 columns):\n",
      " #   Column         Non-Null Count  Dtype  \n",
      "---  ------         --------------  -----  \n",
      " 0   RECRD          5210 non-null   int64  \n",
      " 1   VESSLTERMS     5210 non-null   object \n",
      " 2   FEATURE_TYPE   4955 non-null   object \n",
      " 3   LATDEC         5210 non-null   float64\n",
      " 4   LONDEC         5210 non-null   float64\n",
      " 5   GP_QUALITY     5166 non-null   object \n",
      " 6   DEPTH          4317 non-null   float64\n",
      " 7   SOUNDING_TYPE  1575 non-null   object \n",
      " 8   YEARSUNK       173 non-null    float64\n",
      " 9   HISTORY        5146 non-null   object \n",
      "dtypes: float64(4), int64(1), object(5)\n",
      "memory usage: 447.7+ KB\n"
     ]
    },
    {
     "name": "stderr",
     "output_type": "stream",
     "text": [
      "c:\\ProgramData\\Anaconda3\\lib\\site-packages\\openpyxl\\worksheet\\header_footer.py:48: UserWarning: Cannot parse header or footer so it will be ignored\n",
      "  warn(\"\"\"Cannot parse header or footer so it will be ignored\"\"\")\n"
     ]
    },
    {
     "data": {
      "text/plain": [
       "None"
      ]
     },
     "metadata": {},
     "output_type": "display_data"
    },
    {
     "data": {
      "text/html": [
       "<div>\n",
       "<style scoped>\n",
       "    .dataframe tbody tr th:only-of-type {\n",
       "        vertical-align: middle;\n",
       "    }\n",
       "\n",
       "    .dataframe tbody tr th {\n",
       "        vertical-align: top;\n",
       "    }\n",
       "\n",
       "    .dataframe thead th {\n",
       "        text-align: right;\n",
       "    }\n",
       "</style>\n",
       "<table border=\"1\" class=\"dataframe\">\n",
       "  <thead>\n",
       "    <tr style=\"text-align: right;\">\n",
       "      <th></th>\n",
       "      <th>RECRD</th>\n",
       "      <th>VESSLTERMS</th>\n",
       "      <th>FEATURE_TYPE</th>\n",
       "      <th>LATDEC</th>\n",
       "      <th>LONDEC</th>\n",
       "      <th>GP_QUALITY</th>\n",
       "      <th>DEPTH</th>\n",
       "      <th>SOUNDING_TYPE</th>\n",
       "      <th>YEARSUNK</th>\n",
       "      <th>HISTORY</th>\n",
       "    </tr>\n",
       "  </thead>\n",
       "  <tbody>\n",
       "    <tr>\n",
       "      <th>0</th>\n",
       "      <td>14620</td>\n",
       "      <td>UNKNOWN</td>\n",
       "      <td>Wreck - Submerged, dangerous to surface naviga...</td>\n",
       "      <td>42.143528</td>\n",
       "      <td>-80.114556</td>\n",
       "      <td>High</td>\n",
       "      <td>18.0</td>\n",
       "      <td>Feet and tenths</td>\n",
       "      <td>NaN</td>\n",
       "      <td>F00542: S-W904-NRT4-07; Office review indica...</td>\n",
       "    </tr>\n",
       "    <tr>\n",
       "      <th>1</th>\n",
       "      <td>14292</td>\n",
       "      <td>UNKNOWN</td>\n",
       "      <td>Wreck - Submerged, dangerous to surface naviga...</td>\n",
       "      <td>41.498284</td>\n",
       "      <td>-81.759593</td>\n",
       "      <td>High</td>\n",
       "      <td>26.0</td>\n",
       "      <td>Feet and tenths</td>\n",
       "      <td>NaN</td>\n",
       "      <td>H11689/2007-- S-w920-NRT4-07;  Dangerous sub...</td>\n",
       "    </tr>\n",
       "    <tr>\n",
       "      <th>2</th>\n",
       "      <td>14296</td>\n",
       "      <td>ALGERIA</td>\n",
       "      <td>Wreck - Submerged, dangerous to surface naviga...</td>\n",
       "      <td>41.520448</td>\n",
       "      <td>-81.716076</td>\n",
       "      <td>High</td>\n",
       "      <td>32.0</td>\n",
       "      <td>Feet and tenths</td>\n",
       "      <td>NaN</td>\n",
       "      <td>H11689/2007-- S-W920-NRT4-07;  A large subme...</td>\n",
       "    </tr>\n",
       "    <tr>\n",
       "      <th>3</th>\n",
       "      <td>14298</td>\n",
       "      <td>UNKNOWN</td>\n",
       "      <td>Wreck - Submerged, dangerous to surface naviga...</td>\n",
       "      <td>41.512713</td>\n",
       "      <td>-81.709879</td>\n",
       "      <td>High</td>\n",
       "      <td>22.0</td>\n",
       "      <td>Feet and tenths</td>\n",
       "      <td>NaN</td>\n",
       "      <td>H11689/2007-- S-W920-NRT4-07;  A submerged w...</td>\n",
       "    </tr>\n",
       "    <tr>\n",
       "      <th>4</th>\n",
       "      <td>14207</td>\n",
       "      <td>UNKNOWN</td>\n",
       "      <td>Wreck - Submerged, dangerous to surface naviga...</td>\n",
       "      <td>42.993389</td>\n",
       "      <td>-82.426583</td>\n",
       "      <td>High</td>\n",
       "      <td>34.0</td>\n",
       "      <td>Feet and tenths</td>\n",
       "      <td>NaN</td>\n",
       "      <td>CL 1883/1999--  The Canadian Hydrographic Se...</td>\n",
       "    </tr>\n",
       "    <tr>\n",
       "      <th>...</th>\n",
       "      <td>...</td>\n",
       "      <td>...</td>\n",
       "      <td>...</td>\n",
       "      <td>...</td>\n",
       "      <td>...</td>\n",
       "      <td>...</td>\n",
       "      <td>...</td>\n",
       "      <td>...</td>\n",
       "      <td>...</td>\n",
       "      <td>...</td>\n",
       "    </tr>\n",
       "    <tr>\n",
       "      <th>6217</th>\n",
       "      <td>2886</td>\n",
       "      <td>NORHTEASTERN</td>\n",
       "      <td>Not Charted</td>\n",
       "      <td>35.091842</td>\n",
       "      <td>-75.557928</td>\n",
       "      <td>Poor</td>\n",
       "      <td>0.0</td>\n",
       "      <td>NaN</td>\n",
       "      <td>NaN</td>\n",
       "      <td>SURVEY REQUIREMENTS_x000D_\\nNOT DETERMINED</td>\n",
       "    </tr>\n",
       "    <tr>\n",
       "      <th>6218</th>\n",
       "      <td>2887</td>\n",
       "      <td>ARRAYO</td>\n",
       "      <td>Not Charted</td>\n",
       "      <td>34.983500</td>\n",
       "      <td>-76.051289</td>\n",
       "      <td>Poor</td>\n",
       "      <td>0.0</td>\n",
       "      <td>NaN</td>\n",
       "      <td>NaN</td>\n",
       "      <td>SURVEY REQUIREMENTS_x000D_\\nNOT DETERMINED</td>\n",
       "    </tr>\n",
       "    <tr>\n",
       "      <th>6219</th>\n",
       "      <td>2889</td>\n",
       "      <td>NORDAL</td>\n",
       "      <td>Not Charted</td>\n",
       "      <td>34.691842</td>\n",
       "      <td>-75.584597</td>\n",
       "      <td>Poor</td>\n",
       "      <td>0.0</td>\n",
       "      <td>NaN</td>\n",
       "      <td>NaN</td>\n",
       "      <td>_x000D_\\nDESCRIPTION                     ...</td>\n",
       "    </tr>\n",
       "    <tr>\n",
       "      <th>6220</th>\n",
       "      <td>14917</td>\n",
       "      <td>USS VIRGINA</td>\n",
       "      <td>Wreck - Submerged, nondangerous</td>\n",
       "      <td>35.019290</td>\n",
       "      <td>-75.285944</td>\n",
       "      <td>Med</td>\n",
       "      <td>103.0</td>\n",
       "      <td>Feet and tenths</td>\n",
       "      <td>1923.0</td>\n",
       "      <td>American Battleship of WWI vintage sunk during...</td>\n",
       "    </tr>\n",
       "    <tr>\n",
       "      <th>6221</th>\n",
       "      <td>14635</td>\n",
       "      <td>UNKNOWN</td>\n",
       "      <td>Wreck - Submerged, dangerous to surface naviga...</td>\n",
       "      <td>34.718417</td>\n",
       "      <td>-76.691278</td>\n",
       "      <td>Low</td>\n",
       "      <td>NaN</td>\n",
       "      <td>NaN</td>\n",
       "      <td>NaN</td>\n",
       "      <td>Unknown source; Charted subm wreck appears s...</td>\n",
       "    </tr>\n",
       "  </tbody>\n",
       "</table>\n",
       "<p>5210 rows × 10 columns</p>\n",
       "</div>"
      ],
      "text/plain": [
       "      RECRD    VESSLTERMS                                       FEATURE_TYPE  \\\n",
       "0     14620       UNKNOWN  Wreck - Submerged, dangerous to surface naviga...   \n",
       "1     14292       UNKNOWN  Wreck - Submerged, dangerous to surface naviga...   \n",
       "2     14296       ALGERIA  Wreck - Submerged, dangerous to surface naviga...   \n",
       "3     14298       UNKNOWN  Wreck - Submerged, dangerous to surface naviga...   \n",
       "4     14207       UNKNOWN  Wreck - Submerged, dangerous to surface naviga...   \n",
       "...     ...           ...                                                ...   \n",
       "6217   2886  NORHTEASTERN                                        Not Charted   \n",
       "6218   2887        ARRAYO                                        Not Charted   \n",
       "6219   2889        NORDAL                                        Not Charted   \n",
       "6220  14917   USS VIRGINA                    Wreck - Submerged, nondangerous   \n",
       "6221  14635       UNKNOWN  Wreck - Submerged, dangerous to surface naviga...   \n",
       "\n",
       "         LATDEC     LONDEC GP_QUALITY  DEPTH    SOUNDING_TYPE  YEARSUNK  \\\n",
       "0     42.143528 -80.114556       High   18.0  Feet and tenths       NaN   \n",
       "1     41.498284 -81.759593       High   26.0  Feet and tenths       NaN   \n",
       "2     41.520448 -81.716076       High   32.0  Feet and tenths       NaN   \n",
       "3     41.512713 -81.709879       High   22.0  Feet and tenths       NaN   \n",
       "4     42.993389 -82.426583       High   34.0  Feet and tenths       NaN   \n",
       "...         ...        ...        ...    ...              ...       ...   \n",
       "6217  35.091842 -75.557928       Poor    0.0              NaN       NaN   \n",
       "6218  34.983500 -76.051289       Poor    0.0              NaN       NaN   \n",
       "6219  34.691842 -75.584597       Poor    0.0              NaN       NaN   \n",
       "6220  35.019290 -75.285944        Med  103.0  Feet and tenths    1923.0   \n",
       "6221  34.718417 -76.691278        Low    NaN              NaN       NaN   \n",
       "\n",
       "                                                HISTORY  \n",
       "0       F00542: S-W904-NRT4-07; Office review indica...  \n",
       "1       H11689/2007-- S-w920-NRT4-07;  Dangerous sub...  \n",
       "2       H11689/2007-- S-W920-NRT4-07;  A large subme...  \n",
       "3       H11689/2007-- S-W920-NRT4-07;  A submerged w...  \n",
       "4       CL 1883/1999--  The Canadian Hydrographic Se...  \n",
       "...                                                 ...  \n",
       "6217         SURVEY REQUIREMENTS_x000D_\\nNOT DETERMINED  \n",
       "6218         SURVEY REQUIREMENTS_x000D_\\nNOT DETERMINED  \n",
       "6219       _x000D_\\nDESCRIPTION                     ...  \n",
       "6220  American Battleship of WWI vintage sunk during...  \n",
       "6221    Unknown source; Charted subm wreck appears s...  \n",
       "\n",
       "[5210 rows x 10 columns]"
      ]
     },
     "execution_count": 3,
     "metadata": {},
     "output_type": "execute_result"
    }
   ],
   "source": [
    "wrecks_df = pd.read_excel(\"AWOIS_Wrecks.xlsx\")\n",
    "wrecks_df = wrecks_df.loc[wrecks_df[\"LATDEC\"]>23.5]\n",
    "wrecks_df = wrecks_df.loc[wrecks_df[\"LATDEC\"]<50]\n",
    "wrecks_df = wrecks_df.loc[wrecks_df[\"LONDEC\"]<-60]\n",
    "wrecks_df = wrecks_df.loc[wrecks_df[\"LONDEC\"]>-100]\n",
    "\n",
    "display(wrecks_df.info()) # display type of information that wrecks_df contains\n",
    "wrecks_df"
   ]
  },
  {
   "cell_type": "markdown",
   "metadata": {},
   "source": [
    "For our ocean depth dataset, we made it so any terrain that had a positive value (i.e. above sea level) to have a value of 500. This is because the dataset included elevation above sea levels, so by making the elevation values the same and far enough away from 0, we get a much cleaner looking plot, visually. "
   ]
  },
  {
   "cell_type": "code",
   "execution_count": 4,
   "metadata": {},
   "outputs": [
    {
     "ename": "FileNotFoundError",
     "evalue": "[Errno 2] No such file or directory: './GEBCO_06_Nov_2022_e0f252343eb4/gebco_2022_n50.0_s23.5_w-100.0_e-60.0.asc'",
     "output_type": "error",
     "traceback": [
      "\u001b[1;31m---------------------------------------------------------------------------\u001b[0m",
      "\u001b[1;31mFileNotFoundError\u001b[0m                         Traceback (most recent call last)",
      "\u001b[1;32mc:\\Users\\Deep Datta\\Downloads\\Fall-2022\\CS_3654\\Fishwrecks\\Project2.ipynb Cell 10\u001b[0m in \u001b[0;36m<cell line: 11>\u001b[1;34m()\u001b[0m\n\u001b[0;32m      <a href='vscode-notebook-cell:/c%3A/Users/Deep%20Datta/Downloads/Fall-2022/CS_3654/Fishwrecks/Project2.ipynb#X34sZmlsZQ%3D%3D?line=8'>9</a>\u001b[0m cols\u001b[39m.\u001b[39minsert(\u001b[39m0\u001b[39m, \u001b[39m'\u001b[39m\u001b[39mthrowaway\u001b[39m\u001b[39m'\u001b[39m)\n\u001b[0;32m     <a href='vscode-notebook-cell:/c%3A/Users/Deep%20Datta/Downloads/Fall-2022/CS_3654/Fishwrecks/Project2.ipynb#X34sZmlsZQ%3D%3D?line=9'>10</a>\u001b[0m rows \u001b[39m=\u001b[39m [\u001b[39m50\u001b[39m \u001b[39m-\u001b[39m i\u001b[39m*\u001b[39m\u001b[39m0.004166666667\u001b[39m \u001b[39mfor\u001b[39;00m i \u001b[39min\u001b[39;00m \u001b[39mrange\u001b[39m(\u001b[39m6360\u001b[39m)]\n\u001b[1;32m---> <a href='vscode-notebook-cell:/c%3A/Users/Deep%20Datta/Downloads/Fall-2022/CS_3654/Fishwrecks/Project2.ipynb#X34sZmlsZQ%3D%3D?line=10'>11</a>\u001b[0m depth_df \u001b[39m=\u001b[39m pd\u001b[39m.\u001b[39;49mread_csv(\u001b[39m\"\u001b[39;49m\u001b[39m./GEBCO_06_Nov_2022_e0f252343eb4/gebco_2022_n50.0_s23.5_w-100.0_e-60.0.asc\u001b[39;49m\u001b[39m\"\u001b[39;49m, delimiter\u001b[39m=\u001b[39;49m\u001b[39m\"\u001b[39;49m\u001b[39m \u001b[39;49m\u001b[39m\"\u001b[39;49m, names\u001b[39m=\u001b[39;49mcols)\n\u001b[0;32m     <a href='vscode-notebook-cell:/c%3A/Users/Deep%20Datta/Downloads/Fall-2022/CS_3654/Fishwrecks/Project2.ipynb#X34sZmlsZQ%3D%3D?line=11'>12</a>\u001b[0m depth_df\u001b[39m.\u001b[39mindex \u001b[39m=\u001b[39m rows\n\u001b[0;32m     <a href='vscode-notebook-cell:/c%3A/Users/Deep%20Datta/Downloads/Fall-2022/CS_3654/Fishwrecks/Project2.ipynb#X34sZmlsZQ%3D%3D?line=12'>13</a>\u001b[0m depth_df \u001b[39m=\u001b[39m depth_df\u001b[39m.\u001b[39mdrop(columns\u001b[39m=\u001b[39m\u001b[39m\"\u001b[39m\u001b[39mthrowaway\u001b[39m\u001b[39m\"\u001b[39m)\n",
      "File \u001b[1;32mc:\\ProgramData\\Anaconda3\\lib\\site-packages\\pandas\\util\\_decorators.py:311\u001b[0m, in \u001b[0;36mdeprecate_nonkeyword_arguments.<locals>.decorate.<locals>.wrapper\u001b[1;34m(*args, **kwargs)\u001b[0m\n\u001b[0;32m    305\u001b[0m \u001b[39mif\u001b[39;00m \u001b[39mlen\u001b[39m(args) \u001b[39m>\u001b[39m num_allow_args:\n\u001b[0;32m    306\u001b[0m     warnings\u001b[39m.\u001b[39mwarn(\n\u001b[0;32m    307\u001b[0m         msg\u001b[39m.\u001b[39mformat(arguments\u001b[39m=\u001b[39marguments),\n\u001b[0;32m    308\u001b[0m         \u001b[39mFutureWarning\u001b[39;00m,\n\u001b[0;32m    309\u001b[0m         stacklevel\u001b[39m=\u001b[39mstacklevel,\n\u001b[0;32m    310\u001b[0m     )\n\u001b[1;32m--> 311\u001b[0m \u001b[39mreturn\u001b[39;00m func(\u001b[39m*\u001b[39margs, \u001b[39m*\u001b[39m\u001b[39m*\u001b[39mkwargs)\n",
      "File \u001b[1;32mc:\\ProgramData\\Anaconda3\\lib\\site-packages\\pandas\\io\\parsers\\readers.py:680\u001b[0m, in \u001b[0;36mread_csv\u001b[1;34m(filepath_or_buffer, sep, delimiter, header, names, index_col, usecols, squeeze, prefix, mangle_dupe_cols, dtype, engine, converters, true_values, false_values, skipinitialspace, skiprows, skipfooter, nrows, na_values, keep_default_na, na_filter, verbose, skip_blank_lines, parse_dates, infer_datetime_format, keep_date_col, date_parser, dayfirst, cache_dates, iterator, chunksize, compression, thousands, decimal, lineterminator, quotechar, quoting, doublequote, escapechar, comment, encoding, encoding_errors, dialect, error_bad_lines, warn_bad_lines, on_bad_lines, delim_whitespace, low_memory, memory_map, float_precision, storage_options)\u001b[0m\n\u001b[0;32m    665\u001b[0m kwds_defaults \u001b[39m=\u001b[39m _refine_defaults_read(\n\u001b[0;32m    666\u001b[0m     dialect,\n\u001b[0;32m    667\u001b[0m     delimiter,\n\u001b[1;32m   (...)\u001b[0m\n\u001b[0;32m    676\u001b[0m     defaults\u001b[39m=\u001b[39m{\u001b[39m\"\u001b[39m\u001b[39mdelimiter\u001b[39m\u001b[39m\"\u001b[39m: \u001b[39m\"\u001b[39m\u001b[39m,\u001b[39m\u001b[39m\"\u001b[39m},\n\u001b[0;32m    677\u001b[0m )\n\u001b[0;32m    678\u001b[0m kwds\u001b[39m.\u001b[39mupdate(kwds_defaults)\n\u001b[1;32m--> 680\u001b[0m \u001b[39mreturn\u001b[39;00m _read(filepath_or_buffer, kwds)\n",
      "File \u001b[1;32mc:\\ProgramData\\Anaconda3\\lib\\site-packages\\pandas\\io\\parsers\\readers.py:575\u001b[0m, in \u001b[0;36m_read\u001b[1;34m(filepath_or_buffer, kwds)\u001b[0m\n\u001b[0;32m    572\u001b[0m _validate_names(kwds\u001b[39m.\u001b[39mget(\u001b[39m\"\u001b[39m\u001b[39mnames\u001b[39m\u001b[39m\"\u001b[39m, \u001b[39mNone\u001b[39;00m))\n\u001b[0;32m    574\u001b[0m \u001b[39m# Create the parser.\u001b[39;00m\n\u001b[1;32m--> 575\u001b[0m parser \u001b[39m=\u001b[39m TextFileReader(filepath_or_buffer, \u001b[39m*\u001b[39m\u001b[39m*\u001b[39mkwds)\n\u001b[0;32m    577\u001b[0m \u001b[39mif\u001b[39;00m chunksize \u001b[39mor\u001b[39;00m iterator:\n\u001b[0;32m    578\u001b[0m     \u001b[39mreturn\u001b[39;00m parser\n",
      "File \u001b[1;32mc:\\ProgramData\\Anaconda3\\lib\\site-packages\\pandas\\io\\parsers\\readers.py:933\u001b[0m, in \u001b[0;36mTextFileReader.__init__\u001b[1;34m(self, f, engine, **kwds)\u001b[0m\n\u001b[0;32m    930\u001b[0m     \u001b[39mself\u001b[39m\u001b[39m.\u001b[39moptions[\u001b[39m\"\u001b[39m\u001b[39mhas_index_names\u001b[39m\u001b[39m\"\u001b[39m] \u001b[39m=\u001b[39m kwds[\u001b[39m\"\u001b[39m\u001b[39mhas_index_names\u001b[39m\u001b[39m\"\u001b[39m]\n\u001b[0;32m    932\u001b[0m \u001b[39mself\u001b[39m\u001b[39m.\u001b[39mhandles: IOHandles \u001b[39m|\u001b[39m \u001b[39mNone\u001b[39;00m \u001b[39m=\u001b[39m \u001b[39mNone\u001b[39;00m\n\u001b[1;32m--> 933\u001b[0m \u001b[39mself\u001b[39m\u001b[39m.\u001b[39m_engine \u001b[39m=\u001b[39m \u001b[39mself\u001b[39;49m\u001b[39m.\u001b[39;49m_make_engine(f, \u001b[39mself\u001b[39;49m\u001b[39m.\u001b[39;49mengine)\n",
      "File \u001b[1;32mc:\\ProgramData\\Anaconda3\\lib\\site-packages\\pandas\\io\\parsers\\readers.py:1217\u001b[0m, in \u001b[0;36mTextFileReader._make_engine\u001b[1;34m(self, f, engine)\u001b[0m\n\u001b[0;32m   1213\u001b[0m     mode \u001b[39m=\u001b[39m \u001b[39m\"\u001b[39m\u001b[39mrb\u001b[39m\u001b[39m\"\u001b[39m\n\u001b[0;32m   1214\u001b[0m \u001b[39m# error: No overload variant of \"get_handle\" matches argument types\u001b[39;00m\n\u001b[0;32m   1215\u001b[0m \u001b[39m# \"Union[str, PathLike[str], ReadCsvBuffer[bytes], ReadCsvBuffer[str]]\"\u001b[39;00m\n\u001b[0;32m   1216\u001b[0m \u001b[39m# , \"str\", \"bool\", \"Any\", \"Any\", \"Any\", \"Any\", \"Any\"\u001b[39;00m\n\u001b[1;32m-> 1217\u001b[0m \u001b[39mself\u001b[39m\u001b[39m.\u001b[39mhandles \u001b[39m=\u001b[39m get_handle(  \u001b[39m# type: ignore[call-overload]\u001b[39;49;00m\n\u001b[0;32m   1218\u001b[0m     f,\n\u001b[0;32m   1219\u001b[0m     mode,\n\u001b[0;32m   1220\u001b[0m     encoding\u001b[39m=\u001b[39;49m\u001b[39mself\u001b[39;49m\u001b[39m.\u001b[39;49moptions\u001b[39m.\u001b[39;49mget(\u001b[39m\"\u001b[39;49m\u001b[39mencoding\u001b[39;49m\u001b[39m\"\u001b[39;49m, \u001b[39mNone\u001b[39;49;00m),\n\u001b[0;32m   1221\u001b[0m     compression\u001b[39m=\u001b[39;49m\u001b[39mself\u001b[39;49m\u001b[39m.\u001b[39;49moptions\u001b[39m.\u001b[39;49mget(\u001b[39m\"\u001b[39;49m\u001b[39mcompression\u001b[39;49m\u001b[39m\"\u001b[39;49m, \u001b[39mNone\u001b[39;49;00m),\n\u001b[0;32m   1222\u001b[0m     memory_map\u001b[39m=\u001b[39;49m\u001b[39mself\u001b[39;49m\u001b[39m.\u001b[39;49moptions\u001b[39m.\u001b[39;49mget(\u001b[39m\"\u001b[39;49m\u001b[39mmemory_map\u001b[39;49m\u001b[39m\"\u001b[39;49m, \u001b[39mFalse\u001b[39;49;00m),\n\u001b[0;32m   1223\u001b[0m     is_text\u001b[39m=\u001b[39;49mis_text,\n\u001b[0;32m   1224\u001b[0m     errors\u001b[39m=\u001b[39;49m\u001b[39mself\u001b[39;49m\u001b[39m.\u001b[39;49moptions\u001b[39m.\u001b[39;49mget(\u001b[39m\"\u001b[39;49m\u001b[39mencoding_errors\u001b[39;49m\u001b[39m\"\u001b[39;49m, \u001b[39m\"\u001b[39;49m\u001b[39mstrict\u001b[39;49m\u001b[39m\"\u001b[39;49m),\n\u001b[0;32m   1225\u001b[0m     storage_options\u001b[39m=\u001b[39;49m\u001b[39mself\u001b[39;49m\u001b[39m.\u001b[39;49moptions\u001b[39m.\u001b[39;49mget(\u001b[39m\"\u001b[39;49m\u001b[39mstorage_options\u001b[39;49m\u001b[39m\"\u001b[39;49m, \u001b[39mNone\u001b[39;49;00m),\n\u001b[0;32m   1226\u001b[0m )\n\u001b[0;32m   1227\u001b[0m \u001b[39massert\u001b[39;00m \u001b[39mself\u001b[39m\u001b[39m.\u001b[39mhandles \u001b[39mis\u001b[39;00m \u001b[39mnot\u001b[39;00m \u001b[39mNone\u001b[39;00m\n\u001b[0;32m   1228\u001b[0m f \u001b[39m=\u001b[39m \u001b[39mself\u001b[39m\u001b[39m.\u001b[39mhandles\u001b[39m.\u001b[39mhandle\n",
      "File \u001b[1;32mc:\\ProgramData\\Anaconda3\\lib\\site-packages\\pandas\\io\\common.py:789\u001b[0m, in \u001b[0;36mget_handle\u001b[1;34m(path_or_buf, mode, encoding, compression, memory_map, is_text, errors, storage_options)\u001b[0m\n\u001b[0;32m    784\u001b[0m \u001b[39melif\u001b[39;00m \u001b[39misinstance\u001b[39m(handle, \u001b[39mstr\u001b[39m):\n\u001b[0;32m    785\u001b[0m     \u001b[39m# Check whether the filename is to be opened in binary mode.\u001b[39;00m\n\u001b[0;32m    786\u001b[0m     \u001b[39m# Binary mode does not support 'encoding' and 'newline'.\u001b[39;00m\n\u001b[0;32m    787\u001b[0m     \u001b[39mif\u001b[39;00m ioargs\u001b[39m.\u001b[39mencoding \u001b[39mand\u001b[39;00m \u001b[39m\"\u001b[39m\u001b[39mb\u001b[39m\u001b[39m\"\u001b[39m \u001b[39mnot\u001b[39;00m \u001b[39min\u001b[39;00m ioargs\u001b[39m.\u001b[39mmode:\n\u001b[0;32m    788\u001b[0m         \u001b[39m# Encoding\u001b[39;00m\n\u001b[1;32m--> 789\u001b[0m         handle \u001b[39m=\u001b[39m \u001b[39mopen\u001b[39;49m(\n\u001b[0;32m    790\u001b[0m             handle,\n\u001b[0;32m    791\u001b[0m             ioargs\u001b[39m.\u001b[39;49mmode,\n\u001b[0;32m    792\u001b[0m             encoding\u001b[39m=\u001b[39;49mioargs\u001b[39m.\u001b[39;49mencoding,\n\u001b[0;32m    793\u001b[0m             errors\u001b[39m=\u001b[39;49merrors,\n\u001b[0;32m    794\u001b[0m             newline\u001b[39m=\u001b[39;49m\u001b[39m\"\u001b[39;49m\u001b[39m\"\u001b[39;49m,\n\u001b[0;32m    795\u001b[0m         )\n\u001b[0;32m    796\u001b[0m     \u001b[39melse\u001b[39;00m:\n\u001b[0;32m    797\u001b[0m         \u001b[39m# Binary mode\u001b[39;00m\n\u001b[0;32m    798\u001b[0m         handle \u001b[39m=\u001b[39m \u001b[39mopen\u001b[39m(handle, ioargs\u001b[39m.\u001b[39mmode)\n",
      "\u001b[1;31mFileNotFoundError\u001b[0m: [Errno 2] No such file or directory: './GEBCO_06_Nov_2022_e0f252343eb4/gebco_2022_n50.0_s23.5_w-100.0_e-60.0.asc'"
     ]
    }
   ],
   "source": [
    "# This is the information given to us with the data\n",
    "# ncols        9600\n",
    "# nrows        6360\n",
    "# xllcorner    -100.000000000000\n",
    "# yllcorner    23.500000000000\n",
    "# cellsize     0.004166666667\n",
    "# NODATA_value -32767\n",
    "cols = [-100 + i*0.004166666667 for i in range(9600)]\n",
    "cols.insert(0, 'throwaway')\n",
    "rows = [50 - i*0.004166666667 for i in range(6360)]\n",
    "depth_df = pd.read_csv(\"./GEBCO_06_Nov_2022_e0f252343eb4/gebco_2022_n50.0_s23.5_w-100.0_e-60.0.asc\", delimiter=\" \", names=cols)\n",
    "depth_df.index = rows\n",
    "depth_df = depth_df.drop(columns=\"throwaway\")\n",
    "depth_df[depth_df > 0] = 500\n",
    "depth_df"
   ]
  },
  {
   "cell_type": "markdown",
   "metadata": {},
   "source": [
    "With data gathering and cleaning completed, we overlay the fishing boat data and the shipwreck data to see if there is any correlation."
   ]
  },
  {
   "cell_type": "code",
   "execution_count": null,
   "metadata": {},
   "outputs": [
    {
     "ename": "NameError",
     "evalue": "name 'vessels_df' is not defined",
     "output_type": "error",
     "traceback": [
      "\u001b[1;31m---------------------------------------------------------------------------\u001b[0m",
      "\u001b[1;31mNameError\u001b[0m                                 Traceback (most recent call last)",
      "\u001b[1;32mc:\\Users\\Deep Datta\\Downloads\\Fall-2022\\CS_3654\\Fishwrecks\\Project2.ipynb Cell 12\u001b[0m in \u001b[0;36m<cell line: 1>\u001b[1;34m()\u001b[0m\n\u001b[1;32m----> <a href='vscode-notebook-cell:/c%3A/Users/Deep%20Datta/Downloads/Fall-2022/CS_3654/Fishwrecks/Project2.ipynb#X36sZmlsZQ%3D%3D?line=0'>1</a>\u001b[0m axes \u001b[39m=\u001b[39m vessels_df\u001b[39m.\u001b[39mplot\u001b[39m.\u001b[39mscatter(x\u001b[39m=\u001b[39m\u001b[39m'\u001b[39m\u001b[39mcell_ll_lon\u001b[39m\u001b[39m'\u001b[39m,y\u001b[39m=\u001b[39m\u001b[39m'\u001b[39m\u001b[39mcell_ll_lat\u001b[39m\u001b[39m'\u001b[39m,vmin\u001b[39m=\u001b[39m\u001b[39m0\u001b[39m,vmax\u001b[39m=\u001b[39m\u001b[39m6\u001b[39m,s\u001b[39m=\u001b[39m\u001b[39m10\u001b[39m,color\u001b[39m=\u001b[39m\u001b[39m\"\u001b[39m\u001b[39mred\u001b[39m\u001b[39m\"\u001b[39m,figsize\u001b[39m=\u001b[39m(\u001b[39m12\u001b[39m,\u001b[39m8\u001b[39m), alpha\u001b[39m=\u001b[39m\u001b[39m1\u001b[39m,sharex\u001b[39m=\u001b[39m\u001b[39mFalse\u001b[39;00m, label \u001b[39m=\u001b[39m \u001b[39m\"\u001b[39m\u001b[39mvessels\u001b[39m\u001b[39m\"\u001b[39m)\n\u001b[0;32m      <a href='vscode-notebook-cell:/c%3A/Users/Deep%20Datta/Downloads/Fall-2022/CS_3654/Fishwrecks/Project2.ipynb#X36sZmlsZQ%3D%3D?line=1'>2</a>\u001b[0m axes\u001b[39m=\u001b[39m wrecks_df\u001b[39m.\u001b[39mplot\u001b[39m.\u001b[39mscatter(x\u001b[39m=\u001b[39m\u001b[39m'\u001b[39m\u001b[39mLONDEC\u001b[39m\u001b[39m'\u001b[39m,y\u001b[39m=\u001b[39m\u001b[39m'\u001b[39m\u001b[39mLATDEC\u001b[39m\u001b[39m'\u001b[39m,vmin\u001b[39m=\u001b[39m\u001b[39m0\u001b[39m,vmax\u001b[39m=\u001b[39m\u001b[39m6\u001b[39m,s\u001b[39m=\u001b[39m\u001b[39m10\u001b[39m,figsize\u001b[39m=\u001b[39m(\u001b[39m12\u001b[39m,\u001b[39m8\u001b[39m), alpha\u001b[39m=\u001b[39m\u001b[39m1\u001b[39m,sharex\u001b[39m=\u001b[39m\u001b[39mFalse\u001b[39;00m,ax\u001b[39m=\u001b[39maxes,title\u001b[39m=\u001b[39m\u001b[39m\"\u001b[39m\u001b[39mFishing Boats and Shipwrecks\u001b[39m\u001b[39m\"\u001b[39m, label \u001b[39m=\u001b[39m \u001b[39m\"\u001b[39m\u001b[39mwrecks\u001b[39m\u001b[39m\"\u001b[39m)\n\u001b[0;32m      <a href='vscode-notebook-cell:/c%3A/Users/Deep%20Datta/Downloads/Fall-2022/CS_3654/Fishwrecks/Project2.ipynb#X36sZmlsZQ%3D%3D?line=2'>3</a>\u001b[0m axes\u001b[39m.\u001b[39mset_ylabel(\u001b[39m\"\u001b[39m\u001b[39mLatitude\u001b[39m\u001b[39m\"\u001b[39m)\n",
      "\u001b[1;31mNameError\u001b[0m: name 'vessels_df' is not defined"
     ]
    }
   ],
   "source": [
    "axes = vessels_df.plot.scatter(x='cell_ll_lon',y='cell_ll_lat',vmin=0,vmax=6,s=10,color=\"red\",figsize=(12,8), alpha=1,sharex=False, label = \"vessels\")\n",
    "axes= wrecks_df.plot.scatter(x='LONDEC',y='LATDEC',vmin=0,vmax=6,s=10,figsize=(12,8), alpha=1,sharex=False,ax=axes,title=\"Fishing Boats and Shipwrecks\", label = \"wrecks\")\n",
    "axes.set_ylabel(\"Latitude\")\n",
    "axes.set_xlabel(\"Longitude\")"
   ]
  },
  {
   "cell_type": "markdown",
   "metadata": {},
   "source": [
    "The data looks promising from a distance, with a heavy presence of shipwrecks and fishing boats lining the coast."
   ]
  },
  {
   "cell_type": "code",
   "execution_count": null,
   "metadata": {},
   "outputs": [
    {
     "ename": "NameError",
     "evalue": "name 'wrecks_df' is not defined",
     "output_type": "error",
     "traceback": [
      "\u001b[1;31m---------------------------------------------------------------------------\u001b[0m",
      "\u001b[1;31mNameError\u001b[0m                                 Traceback (most recent call last)",
      "\u001b[1;32mc:\\Users\\Deep Datta\\Downloads\\Fall-2022\\CS_3654\\Fishwrecks\\Project2.ipynb Cell 14\u001b[0m in \u001b[0;36m<cell line: 1>\u001b[1;34m()\u001b[0m\n\u001b[1;32m----> <a href='vscode-notebook-cell:/c%3A/Users/Deep%20Datta/Downloads/Fall-2022/CS_3654/Fishwrecks/Project2.ipynb#X41sZmlsZQ%3D%3D?line=0'>1</a>\u001b[0m wrecks_df \u001b[39m=\u001b[39m wrecks_df\u001b[39m.\u001b[39mloc[wrecks_df[\u001b[39m\"\u001b[39m\u001b[39mLATDEC\u001b[39m\u001b[39m\"\u001b[39m]\u001b[39m>\u001b[39m\u001b[39m30\u001b[39m]\n\u001b[0;32m      <a href='vscode-notebook-cell:/c%3A/Users/Deep%20Datta/Downloads/Fall-2022/CS_3654/Fishwrecks/Project2.ipynb#X41sZmlsZQ%3D%3D?line=1'>2</a>\u001b[0m wrecks_df \u001b[39m=\u001b[39m wrecks_df\u001b[39m.\u001b[39mloc[wrecks_df[\u001b[39m\"\u001b[39m\u001b[39mLATDEC\u001b[39m\u001b[39m\"\u001b[39m]\u001b[39m<\u001b[39m\u001b[39m40\u001b[39m]\n\u001b[0;32m      <a href='vscode-notebook-cell:/c%3A/Users/Deep%20Datta/Downloads/Fall-2022/CS_3654/Fishwrecks/Project2.ipynb#X41sZmlsZQ%3D%3D?line=2'>3</a>\u001b[0m wrecks_df \u001b[39m=\u001b[39m wrecks_df\u001b[39m.\u001b[39mloc[wrecks_df[\u001b[39m\"\u001b[39m\u001b[39mLONDEC\u001b[39m\u001b[39m\"\u001b[39m]\u001b[39m<\u001b[39m\u001b[39m-\u001b[39m\u001b[39m70\u001b[39m]\n",
      "\u001b[1;31mNameError\u001b[0m: name 'wrecks_df' is not defined"
     ]
    }
   ],
   "source": [
    "wrecks_df = wrecks_df.loc[wrecks_df[\"LATDEC\"]>30]\n",
    "wrecks_df = wrecks_df.loc[wrecks_df[\"LATDEC\"]<40]\n",
    "wrecks_df = wrecks_df.loc[wrecks_df[\"LONDEC\"]<-70]\n",
    "wrecks_df = wrecks_df.loc[wrecks_df[\"LONDEC\"]>-80]\n",
    "\n",
    "vessels_overlay = vessels_df.copy()\n",
    "vessels_overlay = vessels_overlay[vessels_overlay.cell_ll_lat >= 30]\n",
    "vessels_overlay = vessels_overlay[vessels_overlay.cell_ll_lat <= 40]\n",
    "vessels_overlay = vessels_overlay[vessels_overlay.cell_ll_lon <= -70]\n",
    "vessels_overlay = vessels_overlay[vessels_overlay.cell_ll_lon >= -80]\n",
    "\n",
    "axes = vessels_overlay.plot.scatter(x='cell_ll_lon',y='cell_ll_lat',vmin=0,vmax=6,s=10,color=\"red\",figsize=(12,8), alpha=1,sharex=False, label = \"vessels\")\n",
    "axes= wrecks_df.plot.scatter(x='LONDEC',y='LATDEC',vmin=0,vmax=6,s=10,figsize=(12,8), alpha=1,sharex=False,ax=axes,title=\"Fishing Boats and Shipwrecks\", label = \"wrecks\")\n",
    "axes.set_ylabel(\"Latitude\")\n",
    "axes.set_xlabel(\"Longitude\")\n",
    "axes.legend(loc = \"upper left\")"
   ]
  },
  {
   "cell_type": "markdown",
   "metadata": {},
   "source": [
    "However, when taking a closer look the data shows that fishing boats appear to avoid areas with many shipwrecks. A possible reason for this is that shipwrecks are caused by hazardous waters and fishing boats steer clear of those areas.\n",
    "\n",
    "This data shows that fishing boats do not tend to fish around shipwrecks."
   ]
  },
  {
   "cell_type": "code",
   "execution_count": null,
   "metadata": {},
   "outputs": [
    {
     "ename": "NameError",
     "evalue": "name 'plt' is not defined",
     "output_type": "error",
     "traceback": [
      "\u001b[1;31m---------------------------------------------------------------------------\u001b[0m",
      "\u001b[1;31mNameError\u001b[0m                                 Traceback (most recent call last)",
      "\u001b[1;32mc:\\Users\\Deep Datta\\Downloads\\Fall-2022\\CS_3654\\Fishwrecks\\Project2.ipynb Cell 16\u001b[0m in \u001b[0;36m<cell line: 1>\u001b[1;34m()\u001b[0m\n\u001b[1;32m----> <a href='vscode-notebook-cell:/c%3A/Users/Deep%20Datta/Downloads/Fall-2022/CS_3654/Fishwrecks/Project2.ipynb#X43sZmlsZQ%3D%3D?line=0'>1</a>\u001b[0m plot \u001b[39m=\u001b[39m plt\u001b[39m.\u001b[39mimshow(depth_df, cmap\u001b[39m=\u001b[39m\u001b[39m\"\u001b[39m\u001b[39mterrain\u001b[39m\u001b[39m\"\u001b[39m)\n\u001b[0;32m      <a href='vscode-notebook-cell:/c%3A/Users/Deep%20Datta/Downloads/Fall-2022/CS_3654/Fishwrecks/Project2.ipynb#X43sZmlsZQ%3D%3D?line=1'>2</a>\u001b[0m plt\u001b[39m.\u001b[39mtitle(\u001b[39m\"\u001b[39m\u001b[39mElevation\u001b[39m\u001b[39m\"\u001b[39m)\n\u001b[0;32m      <a href='vscode-notebook-cell:/c%3A/Users/Deep%20Datta/Downloads/Fall-2022/CS_3654/Fishwrecks/Project2.ipynb#X43sZmlsZQ%3D%3D?line=2'>3</a>\u001b[0m plot\u001b[39m.\u001b[39mfigure\u001b[39m.\u001b[39mcolorbar(plot)\n",
      "\u001b[1;31mNameError\u001b[0m: name 'plt' is not defined"
     ]
    }
   ],
   "source": [
    "plot = plt.imshow(depth_df, cmap=\"terrain\")\n",
    "plt.title(\"Elevation\")\n",
    "plot.figure.colorbar(plot)\n",
    "axes = vessels_df.plot.scatter(x='cell_ll_lon',y='cell_ll_lat',vmin=0,vmax=6,s=10,color=\"red\",figsize=(12,8), alpha=1,sharex=False,title=\"Fishing Boats\")"
   ]
  },
  {
   "cell_type": "markdown",
   "metadata": {},
   "source": [
    "During processing, we noticed that there were was an interesting pattern of fishing boats farther off the coast. This data seems to have some kind of correlation with the seafloor elevation data. This interesting relationship prompts a new question, can fishing boat locations be used to predict bathymetric data?"
   ]
  },
  {
   "cell_type": "markdown",
   "metadata": {},
   "source": [
    "## Conclusion\n",
    "\n",
    "- Thanks to our analysis we figured out that there is not enough of a correlation between fishing boat locations and shipwrecks. The reason for it being inconclusive was that there was a similar amount of data that showed that there was a similar amount of fishing vessels at places where there were no wreckages. Now we are exploring the connection between fishing boat connections and ocean floor elevations to see if there is a correlation there. From there we will revise as necessary based on the previous hypothesis unless more problems arise in our data.\n",
    "\n",
    "- Caveats: Had to revise our data and find more data due to a lot of missing data in our original dataset. Also, we had to find a way to merge the datasets together because they were not in the same format.\n",
    "\n",
    "- Future work: We are going to look at the connection between fishing boat locations and ocean floor elevations to see if there is a correlation there. We may also revise our question(s) in the future depending on the data that has been gathered due to the huge amount of data that is unavailable.\n",
    "\n",
    "- Open Questions: How often do people fish around shipwrecks? What reasons do they fish around shipwrecks? How far back does this trend go? How far back does the data go in the US in terms of shipwrecks? "
   ]
  },
  {
   "cell_type": "markdown",
   "metadata": {},
   "source": []
  }
 ],
 "metadata": {
  "kernelspec": {
   "display_name": "Python 3.9.12 ('base')",
   "language": "python",
   "name": "python3"
  },
  "language_info": {
   "codemirror_mode": {
    "name": "ipython",
    "version": 3
   },
   "file_extension": ".py",
   "mimetype": "text/x-python",
   "name": "python",
   "nbconvert_exporter": "python",
   "pygments_lexer": "ipython3",
   "version": "3.9.12"
  },
  "orig_nbformat": 4,
  "vscode": {
   "interpreter": {
    "hash": "ad2bdc8ecc057115af97d19610ffacc2b4e99fae6737bb82f5d7fb13d2f2c186"
   }
  }
 },
 "nbformat": 4,
 "nbformat_minor": 2
}
