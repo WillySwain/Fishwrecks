{
 "cells": [
  {
   "cell_type": "markdown",
   "metadata": {},
   "source": [
    "# QAC Analysis\n",
    "by Deep Datta, (names here)"
   ]
  },
  {
   "cell_type": "markdown",
   "metadata": {},
   "source": [
    "## Question: Do Vessels Fish Around Shipwrecks More Often Than Not?\n",
    "\n",
    "- The United States has a long history of shipwrecks from fishing vessels to actual tankers. Many vessels wreck each year and some are not listed down. The question is whether vessels fish around shipwrecks more often than not because of the theory that fish like the cover of obstructions and big objects from our knowledge of fresh water fishing because tend to stay around structures for safety.\n",
    "  \n",
    "- The US Office of Coast/ NOAA have a dataset at: https://nauticalcharts.noaa.gov/data/wrecks-and-obstructions.html\n",
    "- We get some of our other data as well from the Global Fishing Watch website: https://globalfishingwatch.org/\n",
    "- We also get some of our data from the General Bathymetric Chart of the Oceans (GEBCO) for our depth values at: https://download.gebco.net/\n",
    "  \n",
    "- Overview of our method:\n",
    "    1. Get the data from the websites above.\n",
    "    2. Merge and clean the datasets into one major method\n",
    "    3. Next visualize the data to see if there is a correlation between the shipwrecks and the fishing vessels. \n",
    "    4. Finally, check to see correlation in dataset to answer question above"
   ]
  },
  {
   "cell_type": "markdown",
   "metadata": {},
   "source": [
    "## "
   ]
  },
  {
   "cell_type": "markdown",
   "metadata": {},
   "source": [
    "## Analysis \n",
    "\n",
    "This is the data we cleaned and merged into this new dataset:\n"
   ]
  },
  {
   "cell_type": "code",
   "execution_count": 4,
   "metadata": {},
   "outputs": [],
   "source": [
    "# (where we put our dataset and visualize it)"
   ]
  },
  {
   "cell_type": "markdown",
   "metadata": {},
   "source": [
    "After that, (this is where we go into the process of listing down specific coding steps of cleaning, merging, then finally visualizing the data) (couple of cells for sure)"
   ]
  },
  {
   "cell_type": "code",
   "execution_count": 5,
   "metadata": {},
   "outputs": [],
   "source": [
    "# code more here"
   ]
  },
  {
   "cell_type": "markdown",
   "metadata": {},
   "source": [
    "more markdown here"
   ]
  },
  {
   "cell_type": "code",
   "execution_count": 6,
   "metadata": {},
   "outputs": [],
   "source": [
    "# etc"
   ]
  },
  {
   "cell_type": "markdown",
   "metadata": {},
   "source": [
    "## Conclusion\n",
    "\n",
    "- Thanks to our analysis we figured out that there is not enough of a correlation between fishing boat locations and shipwrecks. Now we are exploring the connection between fishing boat connections and ocean floor elevations to see if there is a correlation there \n",
    "\n",
    "- Caveats: Had to revise our data and find more data due to a lot of missing data in our original dataset. Also, we had to find a way to merge the datasets together because they were not in the same format.\n",
    "\n",
    "- Future work: We are going to look at the connection between fishing boat locations and ocean floor elevations to see if there is a correlation there. We may also revise our question(s) in the future depending on the data that has been gathered due to the huge amount of data that is unavailable.\n",
    "\n",
    "- Open Questions: How often do people fish around shipwrecks? What reasons do they fish around shipwrecks? How far back does this trend go? How far back does the data go in the US in terms of shipwrecks? "
   ]
  }
 ],
 "metadata": {
  "kernelspec": {
   "display_name": "Python 3.9.13 64-bit (microsoft store)",
   "language": "python",
   "name": "python3"
  },
  "language_info": {
   "codemirror_mode": {
    "name": "ipython",
    "version": 3
   },
   "file_extension": ".py",
   "mimetype": "text/x-python",
   "name": "python",
   "nbconvert_exporter": "python",
   "pygments_lexer": "ipython3",
   "version": "3.9.13"
  },
  "orig_nbformat": 4,
  "vscode": {
   "interpreter": {
    "hash": "c5373f06a4d16871f3d11677c2bb07a0db06fc187bd3a460295e4759097ef440"
   }
  }
 },
 "nbformat": 4,
 "nbformat_minor": 2
}
