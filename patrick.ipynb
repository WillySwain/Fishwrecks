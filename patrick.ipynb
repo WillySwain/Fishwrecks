{
 "cells": [
  {
   "cell_type": "markdown",
   "metadata": {},
   "source": [
    "Import all the data into one"
   ]
  },
  {
   "cell_type": "code",
   "execution_count": 13,
   "metadata": {},
   "outputs": [
    {
     "name": "stdout",
     "output_type": "stream",
     "text": [
      "2020-12-31\r"
     ]
    },
    {
     "data": {
      "text/plain": [
       "(456941, 6)"
      ]
     },
     "execution_count": 13,
     "metadata": {},
     "output_type": "execute_result"
    }
   ],
   "source": [
    "import pandas as pd\n",
    "import numpy as np\n",
    "from datetime import datetime as dt\n",
    "from dateutil.relativedelta import relativedelta\n",
    "\n",
    "curr_date = dt.strptime(\"2020-01-02\", \"%Y-%m-%d\")\n",
    "end_date = dt.strptime(\"2020-12-31\", \"%Y-%m-%d\")\n",
    "vessels_df = pd.read_csv(f'./mmsi-daily-csvs-10-v2-2020/{curr_date:%Y-%m-%d}.csv')\n",
    "curr_date = curr_date + relativedelta(days=1)\n",
    "while curr_date < end_date:\n",
    "    temp_df = pd.read_csv(f'./mmsi-daily-csvs-10-v2-2020/{curr_date:%Y-%m-%d}.csv')\n",
    "    # Remove where fishing hours is 0 because that means the vessel wasn't fishing at that location\n",
    "    temp_df = temp_df[temp_df.fishing_hours != 0]\n",
    "    temp_df = temp_df[temp_df.cell_ll_lat >= 23.5]\n",
    "    temp_df = temp_df[temp_df.cell_ll_lon <= -60]\n",
    "    temp_df = temp_df[temp_df.cell_ll_lon >= -100]\n",
    "    vessels_df = pd.concat([vessels_df, temp_df])\n",
    "    curr_date = curr_date + relativedelta(days=1)\n",
    "    print(f'{curr_date:%Y-%m-%d}', end='\\r')\n",
    "\n",
    "vessels_df.shape"
   ]
  },
  {
   "cell_type": "code",
   "execution_count": null,
   "metadata": {},
   "outputs": [],
   "source": []
  }
 ],
 "metadata": {
  "kernelspec": {
   "display_name": "Python 3.9.13 ('base')",
   "language": "python",
   "name": "python3"
  },
  "language_info": {
   "codemirror_mode": {
    "name": "ipython",
    "version": 3
   },
   "file_extension": ".py",
   "mimetype": "text/x-python",
   "name": "python",
   "nbconvert_exporter": "python",
   "pygments_lexer": "ipython3",
   "version": "3.9.13"
  },
  "orig_nbformat": 4,
  "vscode": {
   "interpreter": {
    "hash": "4f09d7c902b5e5ca093c9f8725875fec2bf829be06780c74d5d692207e7163c7"
   }
  }
 },
 "nbformat": 4,
 "nbformat_minor": 2
}
